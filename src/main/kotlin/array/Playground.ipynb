{
 "cells": [
  {
   "metadata": {},
   "cell_type": "markdown",
   "source": "# Array playground"
  },
  {
   "metadata": {},
   "cell_type": "markdown",
   "source": "## Insert"
  },
  {
   "cell_type": "code",
   "metadata": {
    "collapsed": true,
    "ExecuteTime": {
     "end_time": "2025-08-25T13:50:59.050985742Z",
     "start_time": "2025-08-25T13:50:58.873813084Z"
    }
   },
   "source": [
    "import com.vpe.array.DynamicArray\n",
    "\n",
    "var arr = DynamicArray(3)\n",
    "arr.insert(3)\n",
    "arr.insert(5)\n",
    "arr.insert(1)\n",
    "arr.printItems()"
   ],
   "outputs": [
    {
     "name": "stdout",
     "output_type": "stream",
     "text": [
      "3\n",
      "5\n",
      "1\n"
     ]
    }
   ],
   "execution_count": 10
  },
  {
   "metadata": {},
   "cell_type": "markdown",
   "source": "## Delete\n"
  },
  {
   "metadata": {
    "ExecuteTime": {
     "end_time": "2025-08-25T13:50:59.146809711Z",
     "start_time": "2025-08-25T13:50:59.057194922Z"
    }
   },
   "cell_type": "code",
   "source": [
    "arr.delete(2)\n",
    "arr.printItems()"
   ],
   "outputs": [
    {
     "name": "stdout",
     "output_type": "stream",
     "text": [
      "3\n",
      "5\n"
     ]
    }
   ],
   "execution_count": 11
  },
  {
   "metadata": {},
   "cell_type": "markdown",
   "source": "## indexOf"
  },
  {
   "metadata": {
    "ExecuteTime": {
     "end_time": "2025-08-25T13:50:59.271794538Z",
     "start_time": "2025-08-25T13:50:59.152872082Z"
    }
   },
   "cell_type": "code",
   "source": [
    "println(arr.indexOf(6))\n",
    "println(arr.indexOf(5))\n"
   ],
   "outputs": [
    {
     "name": "stdout",
     "output_type": "stream",
     "text": [
      "-1\n",
      "1\n"
     ]
    }
   ],
   "execution_count": 12
  },
  {
   "metadata": {},
   "cell_type": "markdown",
   "source": "## getAt"
  },
  {
   "metadata": {
    "ExecuteTime": {
     "end_time": "2025-08-25T13:50:59.352345767Z",
     "start_time": "2025-08-25T13:50:59.278483464Z"
    }
   },
   "cell_type": "code",
   "source": "println(arr.getAt(0))",
   "outputs": [
    {
     "name": "stdout",
     "output_type": "stream",
     "text": [
      "3\n"
     ]
    }
   ],
   "execution_count": 13
  },
  {
   "metadata": {},
   "cell_type": "markdown",
   "source": "## reverse"
  },
  {
   "metadata": {
    "ExecuteTime": {
     "end_time": "2025-08-25T13:50:59.466140549Z",
     "start_time": "2025-08-25T13:50:59.364890052Z"
    }
   },
   "cell_type": "code",
   "source": [
    "var arr = DynamicArray(3)\n",
    "for (i in 1..3) {\n",
    "    arr.insert(i)\n",
    "}\n",
    "arr.reverse()\n",
    "arr.printItems()"
   ],
   "outputs": [
    {
     "name": "stdout",
     "output_type": "stream",
     "text": [
      "3\n",
      "2\n",
      "1\n"
     ]
    }
   ],
   "execution_count": 14
  },
  {
   "metadata": {},
   "cell_type": "markdown",
   "source": "## max"
  },
  {
   "metadata": {
    "ExecuteTime": {
     "end_time": "2025-08-25T13:50:59.525056833Z",
     "start_time": "2025-08-25T13:50:59.473563167Z"
    }
   },
   "cell_type": "code",
   "source": "arr.max()",
   "outputs": [
    {
     "data": {
      "text/plain": [
       "3"
      ]
     },
     "execution_count": 15,
     "metadata": {},
     "output_type": "execute_result"
    }
   ],
   "execution_count": 15
  },
  {
   "metadata": {},
   "cell_type": "markdown",
   "source": "## insertAt"
  },
  {
   "metadata": {
    "ExecuteTime": {
     "end_time": "2025-08-25T13:51:20.443687698Z",
     "start_time": "2025-08-25T13:51:20.342577980Z"
    }
   },
   "cell_type": "code",
   "source": [
    "var arr = DynamicArray(3)\n",
    "for (i in 1..4) {\n",
    "    arr.insert(i)\n",
    "}\n",
    "arr.insertAt(10, 2)\n",
    "arr.printItems()"
   ],
   "outputs": [
    {
     "name": "stdout",
     "output_type": "stream",
     "text": [
      "1\n",
      "2\n",
      "10\n",
      "3\n",
      "4\n"
     ]
    }
   ],
   "execution_count": 18
  },
  {
   "metadata": {},
   "cell_type": "markdown",
   "source": "## intersection"
  },
  {
   "metadata": {
    "ExecuteTime": {
     "end_time": "2025-08-25T13:50:59.738035273Z",
     "start_time": "2025-08-25T13:50:59.625275342Z"
    }
   },
   "cell_type": "code",
   "source": [
    "import com.vpe.array.DynamicArray\n",
    "\n",
    "var arr1 = DynamicArray(3)\n",
    "for (i in 1..4) {\n",
    "    arr1.insert(i)\n",
    "}\n",
    "\n",
    "var arr2 = DynamicArray(2)\n",
    "arr2.insert(2)\n",
    "arr2.insert(3)\n",
    "\n",
    "val intersection = arr1.intersect(arr2)\n",
    "intersection.printItems()"
   ],
   "outputs": [
    {
     "name": "stdout",
     "output_type": "stream",
     "text": [
      "2\n",
      "3\n"
     ]
    }
   ],
   "execution_count": 17
  }
 ],
 "metadata": {
  "kernelspec": {
   "display_name": "Kotlin",
   "language": "kotlin",
   "name": "kotlin"
  },
  "language_info": {
   "name": "kotlin",
   "version": "2.2.20-dev-4982",
   "mimetype": "text/x-kotlin",
   "file_extension": ".kt",
   "pygments_lexer": "kotlin",
   "codemirror_mode": "text/x-kotlin",
   "nbconvert_exporter": ""
  },
  "ktnbPluginMetadata": {
   "projectDependencies": [
    "data-structures-and-algorithms-kotlin.main"
   ],
   "projectLibraries": false,
   "sessionRunMode": "IDE_PROCESS"
  }
 },
 "nbformat": 4,
 "nbformat_minor": 0
}

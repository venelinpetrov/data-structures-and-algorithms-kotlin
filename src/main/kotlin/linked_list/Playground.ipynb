{
 "cells": [
  {
   "metadata": {},
   "cell_type": "markdown",
   "source": "# LinkedList"
  },
  {
   "metadata": {},
   "cell_type": "markdown",
   "source": "## addFirst/addLast"
  },
  {
   "cell_type": "code",
   "metadata": {
    "collapsed": true
   },
   "source": [
    "import com.vpe.linked_list.LinkedList\n",
    "\n",
    "val list = LinkedList()\n",
    "list.addLast(10)\n",
    "list.addLast(20)\n",
    "list.addFirst(0)\n",
    "list.toString()"
   ],
   "outputs": [],
   "execution_count": null
  },
  {
   "metadata": {},
   "cell_type": "markdown",
   "source": "## deleteFirst"
  },
  {
   "metadata": {},
   "cell_type": "code",
   "source": [
    "import com.vpe.linked_list.LinkedList\n",
    "\n",
    "val list = LinkedList()\n",
    "list.addLast(10)\n",
    "list.addLast(20)\n",
    "list.deleteFirst()\n",
    "list.toString()"
   ],
   "outputs": [],
   "execution_count": null
  },
  {
   "metadata": {},
   "cell_type": "markdown",
   "source": "## deleteLast"
  },
  {
   "metadata": {},
   "cell_type": "code",
   "source": [
    "import com.vpe.linked_list.LinkedList\n",
    "\n",
    "val list = LinkedList()\n",
    "list.addLast(10)\n",
    "list.addLast(20)\n",
    "list.addLast(30)\n",
    "list.deleteLast()\n",
    "list.toString()"
   ],
   "outputs": [],
   "execution_count": null
  },
  {
   "metadata": {},
   "cell_type": "markdown",
   "source": "### contains"
  },
  {
   "metadata": {},
   "cell_type": "code",
   "source": [
    "import com.vpe.linked_list.LinkedList\n",
    "\n",
    "val list = LinkedList()\n",
    "list.addLast(10)\n",
    "list.addLast(20)\n",
    "list.addLast(30)\n",
    "println(list.contains(10)) // or println(10 in list)\n",
    "println(list.contains(20))\n",
    "println(list.contains(30))\n",
    "println(list.contains(40))"
   ],
   "outputs": [],
   "execution_count": null
  },
  {
   "metadata": {},
   "cell_type": "markdown",
   "source": "## reverse"
  },
  {
   "metadata": {},
   "cell_type": "code",
   "source": [
    "import com.vpe.linked_list.LinkedList\n",
    "\n",
    "val list = LinkedList()\n",
    "list.addLast(10)\n",
    "list.addLast(20)\n",
    "list.addLast(30)\n",
    "list.addLast(40)\n",
    "list.reverse()\n",
    "println(list.toString())"
   ],
   "outputs": [],
   "execution_count": null
  },
  {
   "metadata": {},
   "cell_type": "markdown",
   "source": "## getKthNodeFromTheEnd"
  },
  {
   "metadata": {},
   "cell_type": "code",
   "source": [
    "import com.vpe.linked_list.LinkedList\n",
    "\n",
    "val list = LinkedList()\n",
    "list.addLast(10)\n",
    "list.addLast(20)\n",
    "list.addLast(30)\n",
    "list.addLast(40)\n",
    "println(list.getKthNodeFromTheEnd(0))\n",
    "println(list.getKthNodeFromTheEnd(1))\n",
    "println(list.getKthNodeFromTheEnd(2))\n",
    "println(list.getKthNodeFromTheEnd(3))\n"
   ],
   "outputs": [],
   "execution_count": null
  },
  {
   "metadata": {},
   "cell_type": "markdown",
   "source": "## printMiddle"
  },
  {
   "metadata": {
    "ExecuteTime": {
     "end_time": "2025-08-30T15:15:59.468994823Z",
     "start_time": "2025-08-30T15:15:59.358167236Z"
    }
   },
   "cell_type": "code",
   "source": [
    "import com.vpe.linked_list.LinkedList\n",
    "\n",
    "val list = LinkedList()\n",
    "list.addLast(10)\n",
    "list.addLast(20)\n",
    "list.addLast(30)\n",
    "list.printMiddle()\n",
    "println(\"-\".repeat(10))\n",
    "val list2 = LinkedList()\n",
    "list2.addLast(10)\n",
    "list2.addLast(20)\n",
    "list2.addLast(30)\n",
    "list2.addLast(40)\n",
    "list2.printMiddle()"
   ],
   "outputs": [
    {
     "name": "stdout",
     "output_type": "stream",
     "text": [
      "20\n",
      "----------\n",
      "20\n",
      "30\n"
     ]
    }
   ],
   "execution_count": 4
  }
 ],
 "metadata": {
  "kernelspec": {
   "display_name": "Kotlin",
   "language": "kotlin",
   "name": "kotlin"
  },
  "language_info": {
   "name": "kotlin",
   "version": "2.2.20-dev-4982",
   "mimetype": "text/x-kotlin",
   "file_extension": ".kt",
   "pygments_lexer": "kotlin",
   "codemirror_mode": "text/x-kotlin",
   "nbconvert_exporter": ""
  },
  "ktnbPluginMetadata": {
   "sessionRunMode": "IDE_PROCESS",
   "projectDependencies": [
    "data-structures-and-algorithms-kotlin.main"
   ],
   "projectLibraries": false
  }
 },
 "nbformat": 4,
 "nbformat_minor": 0
}

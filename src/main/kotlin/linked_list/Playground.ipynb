{
 "cells": [
  {
   "metadata": {},
   "cell_type": "markdown",
   "source": "# LinkedList"
  },
  {
   "metadata": {},
   "cell_type": "markdown",
   "source": "## addFirst/addLast"
  },
  {
   "cell_type": "code",
   "metadata": {
    "collapsed": true,
    "ExecuteTime": {
     "end_time": "2025-08-28T16:57:28.820838505Z",
     "start_time": "2025-08-28T16:57:28.772108405Z"
    }
   },
   "source": [
    "import com.vpe.linked_list.LinkedList\n",
    "\n",
    "val list = LinkedList()\n",
    "list.addLast(10)\n",
    "list.addLast(20)\n",
    "list.addFirst(0)\n",
    "list.toString()"
   ],
   "outputs": [
    {
     "data": {
      "text/plain": [
       "[0, 10, 20]"
      ]
     },
     "execution_count": 1,
     "metadata": {},
     "output_type": "execute_result"
    }
   ],
   "execution_count": 1
  },
  {
   "metadata": {},
   "cell_type": "markdown",
   "source": "## deleteFirst"
  },
  {
   "metadata": {
    "ExecuteTime": {
     "end_time": "2025-08-28T16:48:50.620507651Z",
     "start_time": "2025-08-28T16:48:50.521723682Z"
    }
   },
   "cell_type": "code",
   "source": [
    "import com.vpe.linked_list.LinkedList\n",
    "\n",
    "val list = LinkedList()\n",
    "list.addLast(10)\n",
    "list.addLast(20)\n",
    "list.deleteFirst()\n",
    "list.toString()"
   ],
   "outputs": [
    {
     "data": {
      "text/plain": [
       "LinkedList(first=Node(value=20, next=null), last=Node(value=20, next=null))"
      ]
     },
     "execution_count": 2,
     "metadata": {},
     "output_type": "execute_result"
    }
   ],
   "execution_count": 2
  },
  {
   "metadata": {},
   "cell_type": "markdown",
   "source": "## deleteLast"
  },
  {
   "metadata": {
    "ExecuteTime": {
     "end_time": "2025-08-28T16:38:56.726373361Z",
     "start_time": "2025-08-28T16:38:56.604720969Z"
    }
   },
   "cell_type": "code",
   "source": [
    "import com.vpe.linked_list.LinkedList\n",
    "\n",
    "val list = LinkedList()\n",
    "list.addLast(10)\n",
    "list.addLast(20)\n",
    "list.addLast(30)\n",
    "list.deleteLast()\n",
    "list.toString()"
   ],
   "outputs": [
    {
     "data": {
      "text/plain": [
       "LinkedList(first=Node(value=10, next=Node(value=20, next=null)), last=Node(value=20, next=null))"
      ]
     },
     "execution_count": 5,
     "metadata": {},
     "output_type": "execute_result"
    }
   ],
   "execution_count": 5
  },
  {
   "metadata": {},
   "cell_type": "markdown",
   "source": "### contains"
  },
  {
   "metadata": {
    "ExecuteTime": {
     "end_time": "2025-08-28T16:58:56.448069977Z",
     "start_time": "2025-08-28T16:58:56.366050851Z"
    }
   },
   "cell_type": "code",
   "source": [
    "import com.vpe.linked_list.LinkedList\n",
    "\n",
    "val list = LinkedList()\n",
    "list.addLast(10)\n",
    "list.addLast(20)\n",
    "list.addLast(30)\n",
    "println(list.contains(10)) // or println(10 in list)\n",
    "println(list.contains(20))\n",
    "println(list.contains(30))\n",
    "println(list.contains(40))"
   ],
   "outputs": [
    {
     "name": "stdout",
     "output_type": "stream",
     "text": [
      "true\n",
      "true\n",
      "true\n",
      "false\n",
      "true\n"
     ]
    }
   ],
   "execution_count": 1
  }
 ],
 "metadata": {
  "kernelspec": {
   "display_name": "Kotlin",
   "language": "kotlin",
   "name": "kotlin"
  },
  "language_info": {
   "name": "kotlin",
   "version": "2.2.20-dev-4982",
   "mimetype": "text/x-kotlin",
   "file_extension": ".kt",
   "pygments_lexer": "kotlin",
   "codemirror_mode": "text/x-kotlin",
   "nbconvert_exporter": ""
  },
  "ktnbPluginMetadata": {
   "sessionRunMode": "IDE_PROCESS",
   "projectDependencies": [
    "data-structures-and-algorithms-kotlin.main"
   ],
   "projectLibraries": false
  }
 },
 "nbformat": 4,
 "nbformat_minor": 0
}

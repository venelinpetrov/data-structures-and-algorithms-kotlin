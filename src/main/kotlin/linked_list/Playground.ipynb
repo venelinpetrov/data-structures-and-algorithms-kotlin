{
 "cells": [
  {
   "metadata": {},
   "cell_type": "markdown",
   "source": "# LinkedList"
  },
  {
   "metadata": {},
   "cell_type": "markdown",
   "source": "## addFirst/addLast"
  },
  {
   "cell_type": "code",
   "metadata": {
    "collapsed": true,
    "ExecuteTime": {
     "end_time": "2025-08-28T16:57:28.820838505Z",
     "start_time": "2025-08-28T16:57:28.772108405Z"
    }
   },
   "source": [
    "import com.vpe.linked_list.LinkedList\n",
    "\n",
    "val list = LinkedList()\n",
    "list.addLast(10)\n",
    "list.addLast(20)\n",
    "list.addFirst(0)\n",
    "list.toString()"
   ],
   "outputs": [
    {
     "data": {
      "text/plain": [
       "[0, 10, 20]"
      ]
     },
     "execution_count": 1,
     "metadata": {},
     "output_type": "execute_result"
    }
   ],
   "execution_count": 1
  },
  {
   "metadata": {},
   "cell_type": "markdown",
   "source": "## deleteFirst"
  },
  {
   "metadata": {
    "ExecuteTime": {
     "end_time": "2025-08-28T16:48:50.620507651Z",
     "start_time": "2025-08-28T16:48:50.521723682Z"
    }
   },
   "cell_type": "code",
   "source": [
    "import com.vpe.linked_list.LinkedList\n",
    "\n",
    "val list = LinkedList()\n",
    "list.addLast(10)\n",
    "list.addLast(20)\n",
    "list.deleteFirst()\n",
    "list.toString()"
   ],
   "outputs": [
    {
     "data": {
      "text/plain": [
       "LinkedList(first=Node(value=20, next=null), last=Node(value=20, next=null))"
      ]
     },
     "execution_count": 2,
     "metadata": {},
     "output_type": "execute_result"
    }
   ],
   "execution_count": 2
  },
  {
   "metadata": {},
   "cell_type": "markdown",
   "source": "## deleteLast"
  },
  {
   "metadata": {
    "ExecuteTime": {
     "end_time": "2025-08-28T16:38:56.726373361Z",
     "start_time": "2025-08-28T16:38:56.604720969Z"
    }
   },
   "cell_type": "code",
   "source": [
    "import com.vpe.linked_list.LinkedList\n",
    "\n",
    "val list = LinkedList()\n",
    "list.addLast(10)\n",
    "list.addLast(20)\n",
    "list.addLast(30)\n",
    "list.deleteLast()\n",
    "list.toString()"
   ],
   "outputs": [
    {
     "data": {
      "text/plain": [
       "LinkedList(first=Node(value=10, next=Node(value=20, next=null)), last=Node(value=20, next=null))"
      ]
     },
     "execution_count": 5,
     "metadata": {},
     "output_type": "execute_result"
    }
   ],
   "execution_count": 5
  },
  {
   "metadata": {},
   "cell_type": "markdown",
   "source": "### contains"
  },
  {
   "metadata": {
    "ExecuteTime": {
     "end_time": "2025-08-28T16:58:56.448069977Z",
     "start_time": "2025-08-28T16:58:56.366050851Z"
    }
   },
   "cell_type": "code",
   "source": [
    "import com.vpe.linked_list.LinkedList\n",
    "\n",
    "val list = LinkedList()\n",
    "list.addLast(10)\n",
    "list.addLast(20)\n",
    "list.addLast(30)\n",
    "println(list.contains(10)) // or println(10 in list)\n",
    "println(list.contains(20))\n",
    "println(list.contains(30))\n",
    "println(list.contains(40))"
   ],
   "outputs": [
    {
     "name": "stdout",
     "output_type": "stream",
     "text": [
      "true\n",
      "true\n",
      "true\n",
      "false\n",
      "true\n"
     ]
    }
   ],
   "execution_count": 1
  },
  {
   "metadata": {},
   "cell_type": "markdown",
   "source": "## reverse"
  },
  {
   "metadata": {
    "ExecuteTime": {
     "end_time": "2025-08-29T14:18:23.821760544Z",
     "start_time": "2025-08-29T14:18:23.676899063Z"
    }
   },
   "cell_type": "code",
   "source": [
    "import com.vpe.linked_list.LinkedList\n",
    "\n",
    "val list = LinkedList()\n",
    "list.addLast(10)\n",
    "list.addLast(20)\n",
    "list.addLast(30)\n",
    "list.addLast(40)\n",
    "list.reverse()\n",
    "println(list.toString())"
   ],
   "outputs": [
    {
     "name": "stdout",
     "output_type": "stream",
     "text": [
      "[40, 30, 20, 10]\n"
     ]
    }
   ],
   "execution_count": 1
  },
  {
   "metadata": {},
   "cell_type": "markdown",
   "source": "## getKthNodeFromTheEnd"
  },
  {
   "metadata": {
    "ExecuteTime": {
     "end_time": "2025-08-29T14:29:54.463023856Z",
     "start_time": "2025-08-29T14:29:54.281009088Z"
    }
   },
   "cell_type": "code",
   "source": [
    "import com.vpe.linked_list.LinkedList\n",
    "\n",
    "val list = LinkedList()\n",
    "list.addLast(10)\n",
    "list.addLast(20)\n",
    "list.addLast(30)\n",
    "list.addLast(40)\n",
    "println(list.getKthNodeFromTheEnd(0))\n",
    "println(list.getKthNodeFromTheEnd(1))\n",
    "println(list.getKthNodeFromTheEnd(2))\n",
    "println(list.getKthNodeFromTheEnd(3))\n"
   ],
   "outputs": [
    {
     "name": "stdout",
     "output_type": "stream",
     "text": [
      "40\n",
      "30\n",
      "20\n",
      "10\n"
     ]
    }
   ],
   "execution_count": 2
  }
 ],
 "metadata": {
  "kernelspec": {
   "display_name": "Kotlin",
   "language": "kotlin",
   "name": "kotlin"
  },
  "language_info": {
   "name": "kotlin",
   "version": "2.2.20-dev-4982",
   "mimetype": "text/x-kotlin",
   "file_extension": ".kt",
   "pygments_lexer": "kotlin",
   "codemirror_mode": "text/x-kotlin",
   "nbconvert_exporter": ""
  },
  "ktnbPluginMetadata": {
   "sessionRunMode": "IDE_PROCESS",
   "projectDependencies": [
    "data-structures-and-algorithms-kotlin.main"
   ],
   "projectLibraries": false
  }
 },
 "nbformat": 4,
 "nbformat_minor": 0
}

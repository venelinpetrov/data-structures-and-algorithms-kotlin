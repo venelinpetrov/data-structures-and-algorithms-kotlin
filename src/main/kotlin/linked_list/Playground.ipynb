{
 "cells": [
  {
   "cell_type": "code",
   "metadata": {
    "collapsed": true,
    "ExecuteTime": {
     "end_time": "2025-08-28T15:37:44.348614100Z",
     "start_time": "2025-08-28T15:37:44.281465444Z"
    }
   },
   "source": [
    "import com.vpe.linked_list.LinkedList\n",
    "\n",
    "var list = LinkedList()\n",
    "list.addLast(10)\n",
    "list.addLast(20)\n",
    "list.addFirst(0)\n",
    "list.toString()"
   ],
   "outputs": [
    {
     "data": {
      "text/plain": [
       "LinkedList(first=Node(value=0, next=Node(value=10, next=Node(value=20, next=null))), last=Node(value=20, next=null))"
      ]
     },
     "execution_count": 1,
     "metadata": {},
     "output_type": "execute_result"
    }
   ],
   "execution_count": 1
  }
 ],
 "metadata": {
  "kernelspec": {
   "display_name": "Kotlin",
   "language": "kotlin",
   "name": "kotlin"
  },
  "language_info": {
   "name": "kotlin",
   "version": "2.2.20-dev-4982",
   "mimetype": "text/x-kotlin",
   "file_extension": ".kt",
   "pygments_lexer": "kotlin",
   "codemirror_mode": "text/x-kotlin",
   "nbconvert_exporter": ""
  },
  "ktnbPluginMetadata": {
   "sessionRunMode": "IDE_PROCESS",
   "projectDependencies": [
    "data-structures-and-algorithms-kotlin.main"
   ],
   "projectLibraries": false
  }
 },
 "nbformat": 4,
 "nbformat_minor": 0
}

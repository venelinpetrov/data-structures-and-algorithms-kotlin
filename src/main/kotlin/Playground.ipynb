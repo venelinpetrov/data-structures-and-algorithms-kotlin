{
 "cells": [
  {
   "metadata": {},
   "cell_type": "markdown",
   "source": "## Insert"
  },
  {
   "metadata": {},
   "cell_type": "markdown",
   "source": ""
  },
  {
   "metadata": {
    "ExecuteTime": {
     "end_time": "2025-08-25T13:45:44.122768175Z",
     "start_time": "2025-08-25T13:45:44.081534964Z"
    }
   },
   "cell_type": "code",
   "source": [
    "import com.vpe.array.DynamicArray\n",
    "\n",
    "var arr = DynamicArray(3)"
   ],
   "outputs": [],
   "execution_count": 1
  },
  {
   "cell_type": "code",
   "metadata": {
    "collapsed": true,
    "ExecuteTime": {
     "end_time": "2025-08-25T13:45:44.177615089Z",
     "start_time": "2025-08-25T13:45:44.129813226Z"
    }
   },
   "source": [
    "\n",
    "arr.insert(3)\n",
    "arr.insert(5)\n",
    "arr.insert(1)\n",
    "arr.printItems()"
   ],
   "outputs": [
    {
     "name": "stdout",
     "output_type": "stream",
     "text": [
      "3\n",
      "5\n",
      "1\n"
     ]
    }
   ],
   "execution_count": 2
  },
  {
   "metadata": {},
   "cell_type": "markdown",
   "source": "## Delete\n"
  },
  {
   "metadata": {
    "ExecuteTime": {
     "end_time": "2025-08-25T13:45:44.223045507Z",
     "start_time": "2025-08-25T13:45:44.184896139Z"
    }
   },
   "cell_type": "code",
   "source": [
    "\n",
    "arr.delete(2)\n",
    "arr.printItems()"
   ],
   "outputs": [
    {
     "name": "stdout",
     "output_type": "stream",
     "text": [
      "3\n",
      "5\n"
     ]
    }
   ],
   "execution_count": 3
  },
  {
   "metadata": {},
   "cell_type": "markdown",
   "source": "## indexOf"
  },
  {
   "metadata": {
    "ExecuteTime": {
     "end_time": "2025-08-25T13:45:44.280133819Z",
     "start_time": "2025-08-25T13:45:44.229857841Z"
    }
   },
   "cell_type": "code",
   "source": [
    "println(arr.indexOf(6))\n",
    "println(arr.indexOf(5))\n"
   ],
   "outputs": [
    {
     "name": "stdout",
     "output_type": "stream",
     "text": [
      "-1\n",
      "1\n"
     ]
    }
   ],
   "execution_count": 4
  },
  {
   "metadata": {},
   "cell_type": "markdown",
   "source": "## getAt"
  },
  {
   "metadata": {
    "ExecuteTime": {
     "end_time": "2025-08-25T13:45:44.325766641Z",
     "start_time": "2025-08-25T13:45:44.287650588Z"
    }
   },
   "cell_type": "code",
   "source": "println(arr.getAt(0))",
   "outputs": [
    {
     "name": "stdout",
     "output_type": "stream",
     "text": [
      "3\n"
     ]
    }
   ],
   "execution_count": 5
  },
  {
   "metadata": {},
   "cell_type": "markdown",
   "source": "## reverse"
  },
  {
   "metadata": {
    "ExecuteTime": {
     "end_time": "2025-08-25T13:45:44.425761738Z",
     "start_time": "2025-08-25T13:45:44.332920368Z"
    }
   },
   "cell_type": "code",
   "source": [
    "var arr = DynamicArray(3)\n",
    "for (i in 1..3) {\n",
    "    arr.insert(i)\n",
    "}\n",
    "arr.reverse()\n",
    "arr.printItems()"
   ],
   "outputs": [
    {
     "name": "stdout",
     "output_type": "stream",
     "text": [
      "3\n",
      "2\n",
      "1\n"
     ]
    }
   ],
   "execution_count": 6
  },
  {
   "metadata": {},
   "cell_type": "markdown",
   "source": "## max"
  },
  {
   "metadata": {
    "ExecuteTime": {
     "end_time": "2025-08-25T13:45:44.467679059Z",
     "start_time": "2025-08-25T13:45:44.432163606Z"
    }
   },
   "cell_type": "code",
   "source": "arr.max()",
   "outputs": [
    {
     "data": {
      "text/plain": [
       "3"
      ]
     },
     "execution_count": 7,
     "metadata": {},
     "output_type": "execute_result"
    }
   ],
   "execution_count": 7
  },
  {
   "metadata": {},
   "cell_type": "markdown",
   "source": "## insertAt"
  },
  {
   "metadata": {
    "ExecuteTime": {
     "end_time": "2025-08-25T13:45:44.533594114Z",
     "start_time": "2025-08-25T13:45:44.474718104Z"
    }
   },
   "cell_type": "code",
   "source": [
    "var arr = DynamicArray(3)\n",
    "for (i in 1..4) {\n",
    "    arr.insert(i)\n",
    "}\n",
    "arr.insertAt(10, 2)\n",
    "arr.printItems()"
   ],
   "outputs": [
    {
     "name": "stdout",
     "output_type": "stream",
     "text": [
      "1\n",
      "2\n",
      "10\n",
      "3\n",
      "4\n"
     ]
    }
   ],
   "execution_count": 8
  },
  {
   "metadata": {},
   "cell_type": "markdown",
   "source": "## intersection"
  },
  {
   "metadata": {
    "ExecuteTime": {
     "end_time": "2025-08-25T13:45:44.610501181Z",
     "start_time": "2025-08-25T13:45:44.540000382Z"
    }
   },
   "cell_type": "code",
   "source": [
    "import com.vpe.array.DynamicArray\n",
    "\n",
    "var arr1 = DynamicArray(3)\n",
    "for (i in 1..4) {\n",
    "    arr1.insert(i)\n",
    "}\n",
    "\n",
    "var arr2 = DynamicArray(2)\n",
    "arr2.insert(2)\n",
    "arr2.insert(3)\n",
    "\n",
    "val intersection = arr1.intersect(arr2)\n",
    "intersection.printItems()"
   ],
   "outputs": [
    {
     "name": "stdout",
     "output_type": "stream",
     "text": [
      "2\n",
      "3\n"
     ]
    }
   ],
   "execution_count": 9
  }
 ],
 "metadata": {
  "kernelspec": {
   "display_name": "Kotlin",
   "language": "kotlin",
   "name": "kotlin"
  },
  "language_info": {
   "name": "kotlin",
   "version": "2.2.20-dev-4982",
   "mimetype": "text/x-kotlin",
   "file_extension": ".kt",
   "pygments_lexer": "kotlin",
   "codemirror_mode": "text/x-kotlin",
   "nbconvert_exporter": ""
  },
  "ktnbPluginMetadata": {
   "projectDependencies": [
    "data-structures-and-algorithms-kotlin.main"
   ],
   "projectLibraries": false,
   "sessionRunMode": "IDE_PROCESS"
  }
 },
 "nbformat": 4,
 "nbformat_minor": 0
}

{
 "cells": [
  {
   "metadata": {},
   "cell_type": "markdown",
   "source": "## Insert"
  },
  {
   "metadata": {},
   "cell_type": "markdown",
   "source": ""
  },
  {
   "metadata": {
    "ExecuteTime": {
     "end_time": "2025-08-25T11:19:27.691501726Z",
     "start_time": "2025-08-25T11:19:27.655832290Z"
    }
   },
   "cell_type": "code",
   "source": [
    "import com.vpe.array.DynamicArray\n",
    "\n",
    "var arr = DynamicArray(3)"
   ],
   "outputs": [],
   "execution_count": 3
  },
  {
   "cell_type": "code",
   "metadata": {
    "collapsed": true,
    "ExecuteTime": {
     "end_time": "2025-08-25T11:19:27.734456520Z",
     "start_time": "2025-08-25T11:19:27.696318287Z"
    }
   },
   "source": [
    "\n",
    "arr.insert(3)\n",
    "arr.insert(5)\n",
    "arr.insert(1)\n",
    "arr.printItems()"
   ],
   "outputs": [
    {
     "name": "stdout",
     "output_type": "stream",
     "text": [
      "3\n",
      "5\n",
      "1\n"
     ]
    }
   ],
   "execution_count": 4
  },
  {
   "metadata": {},
   "cell_type": "markdown",
   "source": "## Delete\n"
  },
  {
   "metadata": {
    "ExecuteTime": {
     "end_time": "2025-08-25T11:19:27.766936474Z",
     "start_time": "2025-08-25T11:19:27.740856857Z"
    }
   },
   "cell_type": "code",
   "source": [
    "\n",
    "arr.delete(2)\n",
    "arr.printItems()"
   ],
   "outputs": [
    {
     "name": "stdout",
     "output_type": "stream",
     "text": [
      "3\n",
      "5\n"
     ]
    }
   ],
   "execution_count": 5
  },
  {
   "metadata": {},
   "cell_type": "markdown",
   "source": "## indexOf"
  },
  {
   "metadata": {
    "ExecuteTime": {
     "end_time": "2025-08-25T11:19:27.806804591Z",
     "start_time": "2025-08-25T11:19:27.773295675Z"
    }
   },
   "cell_type": "code",
   "source": [
    "println(arr.indexOf(6))\n",
    "println(arr.indexOf(5))\n"
   ],
   "outputs": [
    {
     "name": "stdout",
     "output_type": "stream",
     "text": [
      "-1\n",
      "1\n"
     ]
    }
   ],
   "execution_count": 6
  },
  {
   "metadata": {},
   "cell_type": "markdown",
   "source": "## getAt"
  },
  {
   "metadata": {
    "ExecuteTime": {
     "end_time": "2025-08-25T11:19:27.840392147Z",
     "start_time": "2025-08-25T11:19:27.813862058Z"
    }
   },
   "cell_type": "code",
   "source": "println(arr.getAt(0))",
   "outputs": [
    {
     "name": "stdout",
     "output_type": "stream",
     "text": [
      "3\n"
     ]
    }
   ],
   "execution_count": 7
  },
  {
   "metadata": {},
   "cell_type": "markdown",
   "source": "## reverse"
  },
  {
   "metadata": {
    "ExecuteTime": {
     "end_time": "2025-08-25T11:19:27.900967598Z",
     "start_time": "2025-08-25T11:19:27.844978094Z"
    }
   },
   "cell_type": "code",
   "source": [
    "var arr = DynamicArray(3)\n",
    "for (i in 1..3) {\n",
    "    arr.insert(i)\n",
    "}\n",
    "arr.reverse()\n",
    "arr.printItems()"
   ],
   "outputs": [
    {
     "name": "stdout",
     "output_type": "stream",
     "text": [
      "3\n",
      "2\n",
      "1\n"
     ]
    }
   ],
   "execution_count": 8
  },
  {
   "metadata": {},
   "cell_type": "markdown",
   "source": "## max"
  },
  {
   "metadata": {
    "ExecuteTime": {
     "end_time": "2025-08-25T11:19:27.930593025Z",
     "start_time": "2025-08-25T11:19:27.906412585Z"
    }
   },
   "cell_type": "code",
   "source": "arr.max()",
   "outputs": [
    {
     "data": {
      "text/plain": [
       "3"
      ]
     },
     "execution_count": 9,
     "metadata": {},
     "output_type": "execute_result"
    }
   ],
   "execution_count": 9
  },
  {
   "metadata": {},
   "cell_type": "markdown",
   "source": "## insertAt"
  },
  {
   "metadata": {
    "ExecuteTime": {
     "end_time": "2025-08-25T11:19:27.977462876Z",
     "start_time": "2025-08-25T11:19:27.936464109Z"
    }
   },
   "cell_type": "code",
   "source": [
    "var arr = DynamicArray(3)\n",
    "for (i in 1..4) {\n",
    "    arr.insert(i)\n",
    "}\n",
    "arr.insertAt(10, 2)\n",
    "arr.printItems()"
   ],
   "outputs": [
    {
     "name": "stdout",
     "output_type": "stream",
     "text": [
      "1\n",
      "2\n",
      "10\n",
      "3\n",
      "4\n"
     ]
    }
   ],
   "execution_count": 10
  }
 ],
 "metadata": {
  "kernelspec": {
   "display_name": "Kotlin",
   "language": "kotlin",
   "name": "kotlin"
  },
  "language_info": {
   "name": "kotlin",
   "version": "2.2.20-dev-4982",
   "mimetype": "text/x-kotlin",
   "file_extension": ".kt",
   "pygments_lexer": "kotlin",
   "codemirror_mode": "text/x-kotlin",
   "nbconvert_exporter": ""
  },
  "ktnbPluginMetadata": {
   "projectDependencies": [
    "data-structures-and-algorithms-kotlin.main"
   ],
   "projectLibraries": false,
   "sessionRunMode": "IDE_PROCESS"
  }
 },
 "nbformat": 4,
 "nbformat_minor": 0
}
